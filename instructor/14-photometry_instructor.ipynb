{
 "cells": [
  {
   "cell_type": "markdown",
   "metadata": {},
   "source": [
    "# Aperture and PSF photometry\n",
    "\n",
    "[Photutils](https://photutils.readthedocs.io/en/stable/) is an Astropy coordinated package that provides tools for detecting and performing photometry of astronomical sources."
   ]
  },
  {
   "cell_type": "markdown",
   "metadata": {},
   "source": [
    "\n",
    "<section class=\"objectives panel panel-warning\">\n",
    "<div class=\"panel-heading\">\n",
    "<h2><span class=\"fa fa-certificate\"></span> Objectives</h2>\n",
    "</div>\n",
    "\n",
    "\n",
    "<div class=\"panel-body\">\n",
    "\n",
    "<ul>\n",
    "<li>Estimate and subtract backgrounds in images</li>\n",
    "<li>Detect sources</li>\n",
    "<li>Do aperture photometry</li>\n",
    "<li>Construct a PSF</li>\n",
    "<li>Do PSF photometry</li>\n",
    "</ul>\n",
    "\n",
    "</div>\n",
    "\n",
    "</section>\n"
   ]
  },
  {
   "cell_type": "markdown",
   "metadata": {},
   "source": [
    "## Documentation\n",
    "\n",
    "This notebook only shows a subset of the functionality in photutils. For more information about the features presented below as well as other available features, you can read the\n",
    "[photutils documentation](https://photutils.readthedocs.io/en/stable/)."
   ]
  },
  {
   "cell_type": "code",
   "execution_count": null,
   "metadata": {},
   "outputs": [],
   "source": [
    "%matplotlib inline\n",
    "import matplotlib.pyplot as plt\n",
    "plt.rc('image', origin='lower')\n",
    "plt.rc('figure', figsize=(10, 6))"
   ]
  },
  {
   "cell_type": "markdown",
   "metadata": {},
   "source": [
    "## Background estimation and subtraction\n",
    "\n",
    "Given a calibrated image, your first step (depending on the data) might be to subtract the background. We start off by loading one of the example datasets from photutils:"
   ]
  },
  {
   "cell_type": "code",
   "execution_count": null,
   "metadata": {},
   "outputs": [],
   "source": [
    "from photutils.datasets import load_star_image\n",
    "star_image = load_star_image()\n",
    "star_image"
   ]
  },
  {
   "cell_type": "markdown",
   "metadata": {},
   "source": [
    "The ``star_image`` object is an HDU, so we need to access the data array when plotting it:"
   ]
  },
  {
   "cell_type": "code",
   "execution_count": null,
   "metadata": {},
   "outputs": [],
   "source": [
    "plt.imshow(star_image.data)"
   ]
  },
  {
   "cell_type": "markdown",
   "metadata": {},
   "source": [
    "We can now make a histogram to check if the image has a significant background:"
   ]
  },
  {
   "cell_type": "code",
   "execution_count": null,
   "metadata": {},
   "outputs": [],
   "source": [
    "_ = plt.hist(star_image.data.ravel(), bins=100)"
   ]
  },
  {
   "cell_type": "markdown",
   "metadata": {},
   "source": [
    "It looks like there is a background! There are many different ways of correcting for this, and one of the simplest ways would be for example to sigma clip the image and use the median of the remaining pixel values. But in some cases a more sophisticated approach is needed, so we can try and estimate the background assuming that it may be spatially varying:"
   ]
  },
  {
   "cell_type": "code",
   "execution_count": null,
   "metadata": {},
   "outputs": [],
   "source": [
    "from astropy.stats import SigmaClip\n",
    "from photutils import Background2D, MedianBackground"
   ]
  },
  {
   "cell_type": "code",
   "execution_count": null,
   "metadata": {},
   "outputs": [],
   "source": [
    "sigma_clip = SigmaClip(sigma=3.)\n",
    "bkg_estimator = MedianBackground()"
   ]
  },
  {
   "cell_type": "code",
   "execution_count": null,
   "metadata": {},
   "outputs": [],
   "source": [
    "bkg = Background2D(star_image.data, (265, 265),\n",
    "                   sigma_clip=sigma_clip,\n",
    "                   bkg_estimator=bkg_estimator)"
   ]
  },
  {
   "cell_type": "code",
   "execution_count": null,
   "metadata": {},
   "outputs": [],
   "source": [
    "plt.imshow(bkg.background)"
   ]
  },
  {
   "cell_type": "code",
   "execution_count": null,
   "metadata": {},
   "outputs": [],
   "source": [
    "star_image_nobkg = star_image.data - bkg.background"
   ]
  },
  {
   "cell_type": "code",
   "execution_count": null,
   "metadata": {},
   "outputs": [],
   "source": [
    "plt.imshow(star_image_nobkg, vmin=-1000, vmax=2000)"
   ]
  },
  {
   "cell_type": "code",
   "execution_count": null,
   "metadata": {},
   "outputs": [],
   "source": [
    "_ = plt.hist(star_image_nobkg.ravel(), bins=100)"
   ]
  },
  {
   "cell_type": "markdown",
   "metadata": {},
   "source": [
    "## Source detection\n",
    "\n",
    "Photutils includes several algorithms for detecting sources, including for example an implementation of the [DAOFIND](https://iraf.net/irafhelp.php?val=daofind) algorithm. First, we will need an estimate of the background noise, which we can get with sigma clipping:"
   ]
  },
  {
   "cell_type": "code",
   "execution_count": null,
   "metadata": {},
   "outputs": [],
   "source": [
    "from astropy.stats import sigma_clipped_stats\n",
    "mean, median, std = sigma_clipped_stats(star_image_nobkg, sigma=3.0)\n",
    "print(mean, median, std)"
   ]
  },
  {
   "cell_type": "markdown",
   "metadata": {},
   "source": [
    "We next run the source detection:"
   ]
  },
  {
   "cell_type": "code",
   "execution_count": null,
   "metadata": {},
   "outputs": [],
   "source": [
    "from photutils import DAOStarFinder\n",
    "daofind = DAOStarFinder(fwhm=5.0, threshold=10.*std) \n",
    "sources = daofind(star_image_nobkg) "
   ]
  },
  {
   "cell_type": "markdown",
   "metadata": {},
   "source": [
    "The result is an astropy Table:"
   ]
  },
  {
   "cell_type": "code",
   "execution_count": null,
   "metadata": {},
   "outputs": [],
   "source": [
    "sources"
   ]
  },
  {
   "cell_type": "code",
   "execution_count": null,
   "metadata": {},
   "outputs": [],
   "source": [
    "subset = star_image_nobkg.copy()\n",
    "subset[subset < 30 * std] = 0"
   ]
  },
  {
   "cell_type": "code",
   "execution_count": null,
   "metadata": {},
   "outputs": [],
   "source": [
    "plt.imshow(star_image_nobkg)\n",
    "plt.plot(sources['xcentroid'], sources['ycentroid'], 'o', mfc='none', mec='white')\n",
    "plt.xlim(200, 600)\n",
    "plt.ylim(200, 600)"
   ]
  },
  {
   "cell_type": "markdown",
   "metadata": {},
   "source": [
    "## Aperture photometry\n",
    "\n",
    "Now that we have the position of sources, we can perform aperture photometry. The first step is to create an aperture object whcih contains all the positions for which we want to measure the fluxes:"
   ]
  },
  {
   "cell_type": "code",
   "execution_count": null,
   "metadata": {},
   "outputs": [],
   "source": [
    "from photutils import CircularAperture\n",
    "apertures = CircularAperture(list(zip(sources['xcentroid'], sources['ycentroid'])), r=3.)"
   ]
  },
  {
   "cell_type": "markdown",
   "metadata": {},
   "source": [
    "For simplicity we assume apertures of constant radii (3 pixels). We can now measure the fluxes:"
   ]
  },
  {
   "cell_type": "code",
   "execution_count": null,
   "metadata": {},
   "outputs": [],
   "source": [
    "from photutils import aperture_photometry\n",
    "apphot_table = aperture_photometry(star_image_nobkg, apertures)\n",
    "apphot_table"
   ]
  },
  {
   "cell_type": "code",
   "execution_count": null,
   "metadata": {},
   "outputs": [],
   "source": [
    "plt.scatter(apphot_table['xcenter'], apphot_table['ycenter'], s=apphot_table['aperture_sum'] / 10000)"
   ]
  },
  {
   "cell_type": "markdown",
   "metadata": {},
   "source": [
    "Note that photutils also includes functionality for PSF photometry but this is more advanced, so we do not look at it here."
   ]
  },
  {
   "cell_type": "markdown",
   "metadata": {},
   "source": [
    "\n",
    "<section class=\"challenge panel panel-success\">\n",
    "<div class=\"panel-heading\">\n",
    "<h2><span class=\"fa fa-pencil\"></span> Challenge</h2>\n",
    "</div>\n",
    "\n",
    "\n",
    "<div class=\"panel-body\">\n",
    "\n",
    "<ol>\n",
    "<li>Carry out aperture photometry using a radius of 5 and 10 pixels, and compare the results in a scatter plot</li>\n",
    "<li>Using this, construct a table containing just the sources where the 5 and 10 pixel fluxes agree to within a factor of 2</li>\n",
    "</ol>\n",
    "\n",
    "</div>\n",
    "\n",
    "</section>\n"
   ]
  },
  {
   "cell_type": "code",
   "execution_count": null,
   "metadata": {},
   "outputs": [],
   "source": [
    "#1\n",
    "apertures_5 = CircularAperture(list(zip(sources['xcentroid'], sources['ycentroid'])), r=5.)\n",
    "apphot_table_5 = aperture_photometry(star_image_nobkg, apertures_5)\n",
    "apertures_10 = CircularAperture(list(zip(sources['xcentroid'], sources['ycentroid'])), r=10.)\n",
    "apphot_table_10 = aperture_photometry(star_image_nobkg, apertures_10)\n",
    "plt.loglog(apphot_table_5['aperture_sum'], apphot_table_10['aperture_sum'], '.')\n",
    "plt.plot([1e3, 1e7], [1e3, 1e7])"
   ]
  },
  {
   "cell_type": "code",
   "execution_count": null,
   "metadata": {},
   "outputs": [],
   "source": [
    "#2\n",
    "frac = apphot_table_5['aperture_sum'] / apphot_table_10['aperture_sum']\n",
    "agree = (frac < 2) & (frac > 0.5)\n",
    "subtable = sources[agree]\n",
    "subtable"
   ]
  },
  {
   "cell_type": "markdown",
   "metadata": {},
   "source": [
    "<center><i>This notebook was written by <a href=\"https://aperiosoftware.com/\">Aperio Software Ltd.</a> &copy; 2019, and is licensed under a <a href=\"https://creativecommons.org/licenses/by/4.0/\">Creative Commons Attribution 4.0 International License (CC BY 4.0)</a></i></center>\n",
    "\n",
    "![cc](https://mirrors.creativecommons.org/presskit/buttons/88x31/svg/by.svg)"
   ]
  }
 ],
 "metadata": {
  "kernelspec": {
   "display_name": "Python 3",
   "language": "python",
   "name": "python3"
  },
  "language_info": {
   "codemirror_mode": {
    "name": "ipython",
    "version": 3
   },
   "file_extension": ".py",
   "mimetype": "text/x-python",
   "name": "python",
   "nbconvert_exporter": "python",
   "pygments_lexer": "ipython3",
   "version": "3.7.4"
  }
 },
 "nbformat": 4,
 "nbformat_minor": 1
}
