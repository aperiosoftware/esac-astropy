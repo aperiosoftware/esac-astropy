{
 "cells": [
  {
   "cell_type": "markdown",
   "metadata": {},
   "source": [
    "# Querying online data with astroquery and PyVO\n",
    "\n",
    "There are two main general packages for accessing online data from Python in the Astropy ecosystem:\n",
    "\n",
    "* The [astroquery](https://astroquery.readthedocs.io/en/latest/) coordinated package, which offers access to many services, including a number that are not VO compatible.\n",
    "* The [PyVO](https://pyvo.readthedocs.io/en/latest/) affiliated package which implements a Pythonic interface to VO-compliant services.\n",
    "\n",
    "In this tutorial, we will take a look at both of these."
   ]
  },
  {
   "cell_type": "markdown",
   "metadata": {},
   "source": [
    "\n",
    "<section class=\"objectives panel panel-warning\">\n",
    "<div class=\"panel-heading\">\n",
    "<h2><span class=\"fa fa-certificate\"></span> Objectives</h2>\n",
    "</div>\n",
    "\n",
    "\n",
    "<div class=\"panel-body\">\n",
    "\n",
    "<ul>\n",
    "<li>Querying services such as Simbad and ESASky</li>\n",
    "<li>Using PyVO to access data on VO-compliant servers</li>\n",
    "</ul>\n",
    "\n",
    "</div>\n",
    "\n",
    "</section>\n"
   ]
  },
  {
   "cell_type": "markdown",
   "metadata": {},
   "source": [
    "## Documentation\n",
    "\n",
    "This notebook only shows a subset of the functionality in astroquery and PyVO. For more information about the features presented below as well as other available features, you can read the\n",
    "[astroquery](https://astroquery.readthedocs.io/en/latest/) and [PyVO](https://pyvo.readthedocs.io/en/latest/) documentation."
   ]
  },
  {
   "cell_type": "code",
   "execution_count": null,
   "metadata": {},
   "outputs": [],
   "source": [
    "%matplotlib inline\n",
    "import matplotlib.pyplot as plt\n",
    "plt.rc('image', origin='lower')\n",
    "plt.rc('figure', figsize=(10, 6))"
   ]
  },
  {
   "cell_type": "markdown",
   "metadata": {},
   "source": [
    "## Using astroquery\n",
    "\n",
    "Astroquery provides a common interface to the following services:\n",
    "\n",
    "* ALMA Queries (astroquery.alma)\n",
    "* Atomic Line List (astroquery.atomic)\n",
    "* Besancon Queries (astroquery.besancon)\n",
    "* Cadc (astroquery.cadc)\n",
    "* CASDA Queries (astroquery.casda)\n",
    "* CDS MOC Service (astroquery.cds)\n",
    "* esa.hubble (astroquery.esa.hubble)\n",
    "* ESASky Queries (astroquery.esasky)\n",
    "* ESO Queries (astroquery.eso)\n",
    "* Gaia TAP+ (astroquery.gaia)\n",
    "* GAMA Queries (astroquery.gama)\n",
    "* HEASARC Queries (astroquery.heasarc)\n",
    "* HITRAN Queries (astroquery.hitran)\n",
    "* IRSA Image Server program interface (IBE) Queries (astroquery.ibe)\n",
    "* IRSA Queries (astroquery.irsa)\n",
    "* IRSA Dust Extinction Service Queries (astroquery.irsa_dust)\n",
    "* JPL Spectroscopy Queries (astroquery.jplspec)\n",
    "* MAGPIS Queries (astroquery.magpis)\n",
    "* MAST Queries (astroquery.mast)\n",
    "* Minor Planet Center Queries (astroquery.mpc/astroquery.solarsystem.MPC)\n",
    "* NASA ADS Queries (astroquery.nasa_ads)\n",
    "* NED Queries (astroquery.ned)\n",
    "* NIST Queries (astroquery.nist)\n",
    "* NRAO Queries (astroquery.nrao)\n",
    "* NVAS Queries (astroquery.nvas)\n",
    "* SIMBAD Queries (astroquery.simbad)\n",
    "* Skyview Queries (astroquery.skyview)\n",
    "* Splatalogue Queries (astroquery.splatalogue)\n",
    "* UKIDSS Queries (astroquery.ukidss)\n",
    "* Vamdc Queries (astroquery.vamdc)\n",
    "* VizieR Queries (astroquery.vizier)\n",
    "* VO Simple Cone Search (astroquery.vo_conesearch)\n",
    "* VSA Queries (astroquery.vsa)\n",
    "* xMatch Queries (astroquery.xmatch)\n",
    "\n",
    "and also provides access to other services.\n",
    "\n",
    "### Simbad\n",
    "\n",
    "To start off, we can take a look at the sub-package to query [SIMBAD](http://simbad.u-strasbg.fr/simbad/):"
   ]
  },
  {
   "cell_type": "code",
   "execution_count": null,
   "metadata": {},
   "outputs": [],
   "source": [
    "from astroquery.simbad import Simbad"
   ]
  },
  {
   "cell_type": "markdown",
   "metadata": {},
   "source": [
    "We can query by identifier:"
   ]
  },
  {
   "cell_type": "code",
   "execution_count": null,
   "metadata": {},
   "outputs": [],
   "source": [
    "result = Simbad.query_object(\"m1\")\n",
    "result"
   ]
  },
  {
   "cell_type": "markdown",
   "metadata": {},
   "source": [
    "or by coordinates:"
   ]
  },
  {
   "cell_type": "code",
   "execution_count": null,
   "metadata": {},
   "outputs": [],
   "source": [
    "import astropy.units as u\n",
    "from astropy.coordinates import SkyCoord"
   ]
  },
  {
   "cell_type": "code",
   "execution_count": null,
   "metadata": {},
   "outputs": [],
   "source": [
    "c = SkyCoord(5 * u.hourangle, 30 * u.deg, frame='icrs')\n",
    "r = 15 * u.arcminute"
   ]
  },
  {
   "cell_type": "code",
   "execution_count": null,
   "metadata": {},
   "outputs": [],
   "source": [
    "result = Simbad.query_region(c, radius=r)\n",
    "result"
   ]
  },
  {
   "cell_type": "markdown",
   "metadata": {},
   "source": [
    "### ESASky\n",
    "\n",
    "Another example is querying images from [ESASky](https://astroquery.readthedocs.io/en/latest/esasky/esasky.html)"
   ]
  },
  {
   "cell_type": "code",
   "execution_count": null,
   "metadata": {},
   "outputs": [],
   "source": [
    "from astroquery.esasky import ESASky"
   ]
  },
  {
   "cell_type": "markdown",
   "metadata": {},
   "source": [
    "We can list the available catalogs and maps:"
   ]
  },
  {
   "cell_type": "code",
   "execution_count": null,
   "metadata": {},
   "outputs": [],
   "source": [
    "ESASky.list_catalogs()"
   ]
  },
  {
   "cell_type": "code",
   "execution_count": null,
   "metadata": {},
   "outputs": [],
   "source": [
    "ESASky.list_maps()"
   ]
  },
  {
   "cell_type": "markdown",
   "metadata": {},
   "source": [
    "and we can query and download catalogs:"
   ]
  },
  {
   "cell_type": "code",
   "execution_count": null,
   "metadata": {},
   "outputs": [],
   "source": [
    "from astroquery.esasky import ESASky\n",
    "result = ESASky.query_object_catalogs(\"M51\", \"2MASS\")\n",
    "result[0]"
   ]
  },
  {
   "cell_type": "code",
   "execution_count": null,
   "metadata": {},
   "outputs": [],
   "source": [
    "result = ESASky.query_region_catalogs(\"M51\", 10 * u.arcmin, \"2MASS\")\n",
    "result[0]"
   ]
  },
  {
   "cell_type": "markdown",
   "metadata": {},
   "source": [
    "We can also query and download images:"
   ]
  },
  {
   "cell_type": "code",
   "execution_count": null,
   "metadata": {},
   "outputs": [],
   "source": [
    "images = ESASky.get_images(\"m51\", radius=5 * u.arcmin,\n",
    "                           missions=['Herschel'])"
   ]
  },
  {
   "cell_type": "code",
   "execution_count": null,
   "metadata": {},
   "outputs": [],
   "source": [
    "images['HERSCHEL'][0]['160'].info()"
   ]
  },
  {
   "cell_type": "code",
   "execution_count": null,
   "metadata": {},
   "outputs": [],
   "source": [
    "plt.imshow(images['HERSCHEL'][0]['160']['image'].data)"
   ]
  },
  {
   "cell_type": "markdown",
   "metadata": {},
   "source": [
    "\n",
    "<section class=\"challenge panel panel-success\">\n",
    "<div class=\"panel-heading\">\n",
    "<h2><span class=\"fa fa-pencil\"></span> Challenge</h2>\n",
    "</div>\n",
    "\n",
    "\n",
    "<div class=\"panel-body\">\n",
    "\n",
    "<p>Take a look at the documntation for <a href=\"https://astroquery.readthedocs.io/en/latest/irsa/irsa.html\">IRSA queries</a> and try and download a table from the ALLWISE Source Catalog by searching for sources within 5 arcminutes of M31.</p>\n",
    "\n",
    "</div>\n",
    "\n",
    "</section>\n"
   ]
  },
  {
   "cell_type": "code",
   "execution_count": null,
   "metadata": {},
   "outputs": [],
   "source": [
    "from astroquery.irsa import Irsa\n",
    "Irsa.list_catalogs()  # shows that catalog name is allwise_p3as_psd\n",
    "table = Irsa.query_region(\"M31\", catalog=\"allwise_p3as_psd\", radius=5 * u.arcmin)\n",
    "table"
   ]
  },
  {
   "cell_type": "markdown",
   "metadata": {},
   "source": [
    "## Using PyVO\n",
    "\n",
    "The PyVO package differs a bit from astroquery in that it does not have specialized sub-packages for different services. Instead, it implements and exposes the VO query standards. It is a lower level package that may require more knowledge about the VO, so it is not necessarily as user friendly as astroquery, but on the other hand it can work with any VO-compliant service. Astroquery is starting to use PyVO in places behind the scenes.\n",
    "\n",
    "We can take a look at an example that consists of downloading the 2MASS images for the M17 region:"
   ]
  },
  {
   "cell_type": "code",
   "execution_count": null,
   "metadata": {},
   "outputs": [],
   "source": [
    "from pyvo.dal import imagesearch"
   ]
  },
  {
   "cell_type": "code",
   "execution_count": null,
   "metadata": {},
   "outputs": [],
   "source": [
    "M17 = SkyCoord.from_name('M17')\n",
    "table = imagesearch('https://irsa.ipac.caltech.edu/cgi-bin/2MASS/IM/nph-im_sia?type=at&ds=asky&',\n",
    "                    M17, size=0.25).to_table()\n",
    "table"
   ]
  },
  {
   "cell_type": "code",
   "execution_count": null,
   "metadata": {},
   "outputs": [],
   "source": [
    "subtable = table[(table['band'] == b'K') & (table['format'] == b'image/fits')]\n",
    "subtable"
   ]
  },
  {
   "cell_type": "code",
   "execution_count": null,
   "metadata": {},
   "outputs": [],
   "source": [
    "from astropy.io import fits\n",
    "hdus = [fits.open(row['download'].decode('ascii')) for row in subtable]"
   ]
  },
  {
   "cell_type": "code",
   "execution_count": null,
   "metadata": {},
   "outputs": [],
   "source": [
    "plt.imshow(hdus[0][0].data, vmin=500, vmax=1000)"
   ]
  },
  {
   "cell_type": "markdown",
   "metadata": {},
   "source": [
    "<center><i>This notebook was written by <a href=\"https://aperiosoftware.com/\">Aperio Software Ltd.</a> &copy; 2019, and is licensed under a <a href=\"https://creativecommons.org/licenses/by/4.0/\">Creative Commons Attribution 4.0 International License (CC BY 4.0)</a></i></center>\n",
    "\n",
    "![cc](https://mirrors.creativecommons.org/presskit/buttons/88x31/svg/by.svg)"
   ]
  }
 ],
 "metadata": {
  "kernelspec": {
   "display_name": "Python 3",
   "language": "python",
   "name": "python3"
  },
  "language_info": {
   "codemirror_mode": {
    "name": "ipython",
    "version": 3
   },
   "file_extension": ".py",
   "mimetype": "text/x-python",
   "name": "python",
   "nbconvert_exporter": "python",
   "pygments_lexer": "ipython3",
   "version": "3.7.4"
  }
 },
 "nbformat": 4,
 "nbformat_minor": 1
}
