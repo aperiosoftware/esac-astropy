{
 "cells": [
  {
   "cell_type": "markdown",
   "metadata": {},
   "source": [
    "# Statistics\n",
    "\n",
    "The [astropy.stats](http://docs.astropy.org/en/stable/stats/index.html) sub-package includes common statistical tools for astronomy. It is by no means complete and we are open to contributions for more functionality! In this tutorial, we will take a look at some of the existing functionality."
   ]
  },
  {
   "cell_type": "markdown",
   "metadata": {},
   "source": [
    "\n",
    "<section class=\"objectives panel panel-warning\">\n",
    "<div class=\"panel-heading\">\n",
    "<h2><span class=\"fa fa-certificate\"></span> Objectives</h2>\n",
    "</div>\n",
    "\n",
    "\n",
    "<div class=\"panel-body\">\n",
    "\n",
    "<ul>\n",
    "<li>Use sigma clipping on arrays</li>\n",
    "<li>Use automatic bin determination for histograms</li>\n",
    "<li>Work with binomial and Poisson distributions</li>\n",
    "</ul>\n",
    "\n",
    "</div>\n",
    "\n",
    "</section>\n"
   ]
  },
  {
   "cell_type": "markdown",
   "metadata": {},
   "source": [
    "## Documentation\n",
    "\n",
    "This notebook only shows a subset of the functionality in astropy.stats. For more information about the features presented below as well as other available features, you can read the\n",
    "[astropy.stats documentation](https://docs.astropy.org/en/stable/stats/)."
   ]
  },
  {
   "cell_type": "code",
   "execution_count": null,
   "metadata": {},
   "outputs": [],
   "source": [
    "%matplotlib inline\n",
    "import matplotlib.pyplot as plt\n",
    "plt.rc('image', origin='lower')\n",
    "plt.rc('figure', figsize=(10, 6))"
   ]
  },
  {
   "cell_type": "markdown",
   "metadata": {},
   "source": [
    "## Sigma clipping\n",
    "\n",
    "A very common operation with astronomical data is sigma-clipping, where values in a dataset are iteratively excluded if they deviate too much from some overall statistic. To illustrate this, we use an image of a star field for which we want to estimate the background:"
   ]
  },
  {
   "cell_type": "code",
   "execution_count": null,
   "metadata": {},
   "outputs": [],
   "source": []
  },
  {
   "cell_type": "code",
   "execution_count": null,
   "metadata": {},
   "outputs": [],
   "source": []
  },
  {
   "cell_type": "code",
   "execution_count": null,
   "metadata": {},
   "outputs": [],
   "source": []
  },
  {
   "cell_type": "code",
   "execution_count": null,
   "metadata": {},
   "outputs": [],
   "source": []
  },
  {
   "cell_type": "markdown",
   "metadata": {},
   "source": [
    "The result is a masked Numpy array:"
   ]
  },
  {
   "cell_type": "code",
   "execution_count": null,
   "metadata": {},
   "outputs": [],
   "source": []
  },
  {
   "cell_type": "code",
   "execution_count": null,
   "metadata": {},
   "outputs": [],
   "source": []
  },
  {
   "cell_type": "markdown",
   "metadata": {},
   "source": [
    "We can then estimate the background and background noise easily for example:"
   ]
  },
  {
   "cell_type": "code",
   "execution_count": null,
   "metadata": {},
   "outputs": [],
   "source": []
  },
  {
   "cell_type": "markdown",
   "metadata": {},
   "source": [
    "The ``sigma_clip`` function includes a number of options to refine the algorithm, including what statistics to use during the sigma-clipping, and also allows for asymmetric sigma values. See the [sigma_clip() documentation](https://docs.astropy.org/en/stable/api/astropy.stats.sigma_clip.html) for more details.\n",
    "\n",
    "As a shortcut for deriving sigma-clipped statistics as done above, a ``sigma_clipped_stats`` function:"
   ]
  },
  {
   "cell_type": "code",
   "execution_count": null,
   "metadata": {},
   "outputs": [],
   "source": []
  },
  {
   "cell_type": "markdown",
   "metadata": {},
   "source": [
    "## Choosing histogram bins\n",
    "\n",
    "Another example of functionality in the astropy.stats sub-package is the [histogram()](http://docs.astropy.org/en/stable/api/astropy.stats.histogram.html#astropy.stats.histogram) function, which is exposed through the [hist()](http://docs.astropy.org/en/stable/api/astropy.visualization.hist.html#astropy.visualization.hist) function in astropy.visualization for ease of use. These functions provide an easy way to use smart binning algorithms for data. \n",
    "\n",
    "Let's start off by creating some synthetic data:"
   ]
  },
  {
   "cell_type": "code",
   "execution_count": null,
   "metadata": {},
   "outputs": [],
   "source": []
  },
  {
   "cell_type": "markdown",
   "metadata": {},
   "source": [
    "We can use Matplotlib to make a histogram, but the number of bins has to be set (or defaults to an arbitrary values) and is not necessarily optimal:"
   ]
  },
  {
   "cell_type": "code",
   "execution_count": null,
   "metadata": {},
   "outputs": [],
   "source": []
  },
  {
   "cell_type": "markdown",
   "metadata": {},
   "source": [
    "We can instead try and use the the [hist()](http://docs.astropy.org/en/stable/api/astropy.visualization.hist.html#astropy.visualization.hist) function in astropy.visualization to try out different methods of automatically selecting the bins:"
   ]
  },
  {
   "cell_type": "code",
   "execution_count": null,
   "metadata": {},
   "outputs": [],
   "source": []
  },
  {
   "cell_type": "markdown",
   "metadata": {},
   "source": [
    "for example using [Bayesian Blocks](https://arxiv.org/abs/1207.5578):"
   ]
  },
  {
   "cell_type": "code",
   "execution_count": null,
   "metadata": {},
   "outputs": [],
   "source": []
  },
  {
   "cell_type": "markdown",
   "metadata": {},
   "source": [
    "or [Knuth's rule](https://arxiv.org/abs/physics/0605197):"
   ]
  },
  {
   "cell_type": "code",
   "execution_count": null,
   "metadata": {},
   "outputs": [],
   "source": []
  },
  {
   "cell_type": "markdown",
   "metadata": {},
   "source": [
    "If you want to get the underlying values, use the [histogram()](http://docs.astropy.org/en/stable/api/astropy.stats.histogram.html#astropy.stats.histogram) function in astropy.stats:"
   ]
  },
  {
   "cell_type": "code",
   "execution_count": null,
   "metadata": {},
   "outputs": [],
   "source": []
  },
  {
   "cell_type": "code",
   "execution_count": null,
   "metadata": {},
   "outputs": [],
   "source": []
  },
  {
   "cell_type": "markdown",
   "metadata": {},
   "source": [
    "## Binomial and Poisson distributions\n",
    "\n",
    "A third set of functionality in astropy.stats are functions to help with calculations related to binomial and Poisson distributions. For example, if we observe 150 galaxies and find that 50 are spirals, we can estimate confidence intervals using [binom_conf_interval()](http://docs.astropy.org/en/stable/api/astropy.stats.binom_conf_interval.html#astropy.stats.binom_conf_interval) for the true underlying fraction of spiral galaxies that would have been observed if the sample had been much larger (and with the same selection criteria/biases):"
   ]
  },
  {
   "cell_type": "code",
   "execution_count": null,
   "metadata": {},
   "outputs": [],
   "source": []
  },
  {
   "cell_type": "markdown",
   "metadata": {},
   "source": [
    "By default, the confidence interval returned is the 68.27% confidence interval ('1-sigma'):"
   ]
  },
  {
   "cell_type": "code",
   "execution_count": null,
   "metadata": {},
   "outputs": [],
   "source": []
  },
  {
   "cell_type": "code",
   "execution_count": null,
   "metadata": {},
   "outputs": [],
   "source": []
  },
  {
   "cell_type": "markdown",
   "metadata": {},
   "source": [
    "Similarly, if we detect 10 photons in a pixel, we can determine the confidence interval for the underlying brightness of the emission in the pixel using [poisson_conf_interval()](http://docs.astropy.org/en/stable/api/astropy.stats.poisson_conf_interval.html#astropy.stats.poisson_conf_interval):"
   ]
  },
  {
   "cell_type": "code",
   "execution_count": null,
   "metadata": {},
   "outputs": [],
   "source": []
  },
  {
   "cell_type": "code",
   "execution_count": null,
   "metadata": {},
   "outputs": [],
   "source": []
  },
  {
   "cell_type": "code",
   "execution_count": null,
   "metadata": {},
   "outputs": [],
   "source": []
  },
  {
   "cell_type": "code",
   "execution_count": null,
   "metadata": {},
   "outputs": [],
   "source": []
  },
  {
   "cell_type": "markdown",
   "metadata": {},
   "source": [
    "\n",
    "<section class=\"challenge panel panel-success\">\n",
    "<div class=\"panel-heading\">\n",
    "<h2><span class=\"fa fa-pencil\"></span> Challenge</h2>\n",
    "</div>\n",
    "\n",
    "\n",
    "<div class=\"panel-body\">\n",
    "\n",
    "<ol>\n",
    "<li>Take a look at the <a href=\"http://docs.astropy.org/en/stable/stats/index.html\">astropy.stats documentation</a>, and in particular the long list of functions at the bottom, in case you see something that could be useful to you! (and feel free to try them if so)</li>\n",
    "<li>If you had to find the median absolute deviation for a dataset, how would you do it? Try and find the robust standard deviation using the median absolute deviation for the sigma clipped array we produced before.</li>\n",
    "</ol>\n",
    "\n",
    "</div>\n",
    "\n",
    "</section>\n"
   ]
  },
  {
   "cell_type": "code",
   "execution_count": null,
   "metadata": {},
   "outputs": [],
   "source": []
  },
  {
   "cell_type": "markdown",
   "metadata": {},
   "source": [
    "<center><i>This notebook was written by <a href=\"https://aperiosoftware.com/\">Aperio Software Ltd.</a> &copy; 2019, and is licensed under a <a href=\"https://creativecommons.org/licenses/by/4.0/\">Creative Commons Attribution 4.0 International License (CC BY 4.0)</a></i></center>\n",
    "\n",
    "![cc](https://mirrors.creativecommons.org/presskit/buttons/88x31/svg/by.svg)"
   ]
  }
 ],
 "metadata": {
  "kernelspec": {
   "display_name": "Python 3",
   "language": "python",
   "name": "python3"
  },
  "language_info": {
   "codemirror_mode": {
    "name": "ipython",
    "version": 3
   },
   "file_extension": ".py",
   "mimetype": "text/x-python",
   "name": "python",
   "nbconvert_exporter": "python",
   "pygments_lexer": "ipython3",
   "version": "3.7.4"
  }
 },
 "nbformat": 4,
 "nbformat_minor": 1
}
