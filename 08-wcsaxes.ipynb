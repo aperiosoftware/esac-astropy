{
 "cells": [
  {
   "cell_type": "markdown",
   "metadata": {},
   "source": [
    "# Visualizing image data with astropy.visualization\n",
    "\n",
    "In the previous tutorials, when we have made plots of the image data, the axes have showed pixel coordinates. However, you may want to show the world coordinates, and optionally a coordinate grid on the image. The [astropy.visualization](http://docs.astropy.org/en/stable/visualization/index.html) sub-module provides a way to do this that integrates with Matplotlib ([astropy.visualization.wcsaxes](http://docs.astropy.org/en/stable/visualization/wcsaxes/index.html)). In addition, the [APLpy](https://aplpy.github.io/) package provides a user-friendly way of making these kinds of plots (and is now built on top of astropy.visualization.wcsaxes). In this tutorial we will take a look at both options."
   ]
  },
  {
   "cell_type": "markdown",
   "metadata": {},
   "source": [
    "\n",
    "<section class=\"objectives panel panel-warning\">\n",
    "<div class=\"panel-heading\">\n",
    "<h2><span class=\"fa fa-certificate\"></span> Objectives</h2>\n",
    "</div>\n",
    "\n",
    "\n",
    "<div class=\"panel-body\">\n",
    "\n",
    "<ul>\n",
    "<li>Make an image plot with Matplotlib with world coordinates shown</li>\n",
    "<li>Customize the ticks, tick labels, and axis labels</li>\n",
    "<li>Overplot data (points and contours) on top of the image</li>\n",
    "<li>Overplot different coordinate systems</li>\n",
    "<li>Normalizing and stretching image data</li>\n",
    "<li>Using APLpy for quick plots</li>\n",
    "</ul>\n",
    "\n",
    "</div>\n",
    "\n",
    "</section>\n"
   ]
  },
  {
   "cell_type": "markdown",
   "metadata": {},
   "source": [
    "## Documentation\n",
    "\n",
    "This notebook only shows a subset of the functionality in astropy.visualization and APLpy. For more information about the features presented below as well as other available features, you can read the\n",
    "[astropy.visualization](http://docs.astropy.org/en/stable/visualization/index.html) and the [APLpy](https://aplpy.github.io/) documentation."
   ]
  },
  {
   "cell_type": "code",
   "execution_count": null,
   "metadata": {},
   "outputs": [],
   "source": [
    "%matplotlib inline\n",
    "import matplotlib.pyplot as plt\n",
    "plt.rc('image', origin='lower')\n",
    "plt.rc('figure', figsize=(10, 6))"
   ]
  },
  {
   "cell_type": "markdown",
   "metadata": {},
   "source": [
    "## Making a simple plot\n",
    "\n",
    "We start off by loading in the GAIA source density image from previous tutorials:"
   ]
  },
  {
   "cell_type": "code",
   "execution_count": null,
   "metadata": {},
   "outputs": [],
   "source": []
  },
  {
   "cell_type": "markdown",
   "metadata": {},
   "source": [
    "and we extract the WCS from the header:"
   ]
  },
  {
   "cell_type": "code",
   "execution_count": null,
   "metadata": {},
   "outputs": [],
   "source": []
  },
  {
   "cell_type": "markdown",
   "metadata": {},
   "source": [
    "We can now use Matplotlib as normal but passing the ``projection=`` keyword argument to the ``subplot`` function:"
   ]
  },
  {
   "cell_type": "code",
   "execution_count": null,
   "metadata": {},
   "outputs": [],
   "source": []
  },
  {
   "cell_type": "markdown",
   "metadata": {},
   "source": [
    "As you can see, this automatically shows the longitude and latitude on the axes and calling ``grid`` shows the curved grid of the celestial sphere!\n",
    "\n",
    "## Customizing ticks and labels\n",
    "\n",
    "When using a WCS projection, controlling the ticks, tick labels, and axis labels is a little different to normal Matplotlib - this is because there is now not a one to one correspondance between world coordinates and pixel axes, so talking about the 'x' or 'y' ticks does not make sense in some cases, and instead we should talk about e.g. longitude and latitude ticks.\n",
    "\n",
    "Once you have a plot initialized, you can access the ``ax.coords`` property which gives you access to ways of controlling each world coordinate. You can either index this by an integer for the index of the world coordinate:"
   ]
  },
  {
   "cell_type": "code",
   "execution_count": null,
   "metadata": {},
   "outputs": [],
   "source": []
  },
  {
   "cell_type": "markdown",
   "metadata": {},
   "source": [
    "or, in the case of common coordinate systems, by their name:"
   ]
  },
  {
   "cell_type": "code",
   "execution_count": null,
   "metadata": {},
   "outputs": [],
   "source": []
  },
  {
   "cell_type": "markdown",
   "metadata": {},
   "source": [
    "The object you have for each coordinate can then be used to customize it, for example to set the axis labels:"
   ]
  },
  {
   "cell_type": "code",
   "execution_count": null,
   "metadata": {},
   "outputs": [],
   "source": []
  },
  {
   "cell_type": "markdown",
   "metadata": {},
   "source": [
    "The tick label format:"
   ]
  },
  {
   "cell_type": "code",
   "execution_count": null,
   "metadata": {},
   "outputs": [],
   "source": []
  },
  {
   "cell_type": "markdown",
   "metadata": {},
   "source": [
    "The tick spacing or the number of ticks:"
   ]
  },
  {
   "cell_type": "code",
   "execution_count": null,
   "metadata": {},
   "outputs": [],
   "source": []
  },
  {
   "cell_type": "markdown",
   "metadata": {},
   "source": [
    "Since the world axes are not necessarily tied to a single pixel axis, it is possible to show each coordinate on any of the axes:"
   ]
  },
  {
   "cell_type": "code",
   "execution_count": null,
   "metadata": {},
   "outputs": [],
   "source": []
  },
  {
   "cell_type": "markdown",
   "metadata": {},
   "source": [
    "## Overlaying markers and contours\n",
    "\n",
    "By default, the normal Matplotlib methods on axes should work, and assume pixel coordinates:"
   ]
  },
  {
   "cell_type": "code",
   "execution_count": null,
   "metadata": {},
   "outputs": [],
   "source": [
    "ax = plt.subplot(projection=wcs)\n",
    "ax.imshow(hdulist[0].data)"
   ]
  },
  {
   "cell_type": "code",
   "execution_count": null,
   "metadata": {},
   "outputs": [],
   "source": []
  },
  {
   "cell_type": "markdown",
   "metadata": {},
   "source": [
    "However, most Matplotlib methods can take a ``transform=`` option which allows us to plot data in various coordinate systems. For example, to plot markers in Galactic coordinates, we can do:"
   ]
  },
  {
   "cell_type": "code",
   "execution_count": null,
   "metadata": {},
   "outputs": [],
   "source": []
  },
  {
   "cell_type": "markdown",
   "metadata": {},
   "source": [
    "In this case we used ``'world'`` but we could also have explicitly said ``'galactic'`` or plotted markers in e.g. ``'fk5'``. You can also pass astropy coordinate frames to this if needed.\n",
    "\n",
    "To overplot contours, you can use a similar approach, but in this case ``get_transform`` should be given the WCS object for the contour map. We can try this out by using an IRAS 100 micron map of the LMC:"
   ]
  },
  {
   "cell_type": "code",
   "execution_count": null,
   "metadata": {},
   "outputs": [],
   "source": []
  },
  {
   "cell_type": "code",
   "execution_count": null,
   "metadata": {},
   "outputs": [],
   "source": []
  },
  {
   "cell_type": "markdown",
   "metadata": {},
   "source": [
    "## Overlaying a different coordinate grid\n",
    "\n",
    "Another useful feature is the ability to overplot different coordinate systems - for example in the above case we can add an RA/Dec grid and ticks for reference:"
   ]
  },
  {
   "cell_type": "code",
   "execution_count": null,
   "metadata": {},
   "outputs": [],
   "source": [
    "ax = plt.subplot(projection=wcs)\n",
    "ax.imshow(hdulist[0].data)\n",
    "\n",
    "lon, lat = ax.coords\n",
    "lon.set_axislabel('Galactic Longitude')\n",
    "lat.set_axislabel('Galactic Longitude')\n",
    "\n",
    "ra, dec = ax.get_coords_overlay('icrs')\n",
    "\n",
    "dec.set_axislabel('Declination')\n",
    "dec.set_ticks_position('t')\n",
    "dec.set_ticklabel_position('t')\n",
    "dec.set_axislabel_position('t')\n",
    "\n",
    "ra.set_axislabel('Right Ascension')\n",
    "ra.set_ticks_position('r')\n",
    "ra.set_ticklabel_position('r')\n",
    "ra.set_axislabel_position('r')\n",
    "\n",
    "lon.grid(color='white')\n",
    "lat.grid(color='yellow')\n",
    "ra.grid(color='green')\n",
    "dec.grid(color='cyan')"
   ]
  },
  {
   "cell_type": "markdown",
   "metadata": {},
   "source": [
    "## Normalizing and stretching data\n",
    "\n",
    "Another set of functionality in the [astropy.visualization](http://docs.astropy.org/en/stable/visualization/) sub-package are classes and functions to help with normalizing and stretching data. The easiest way to use this is to use the [simple_norm()](http://docs.astropy.org/en/stable/api/astropy.visualization.mpl_normalize.simple_norm.html#astropy.visualization.mpl_normalize.simple_norm) function:"
   ]
  },
  {
   "cell_type": "code",
   "execution_count": null,
   "metadata": {},
   "outputs": [],
   "source": []
  },
  {
   "cell_type": "code",
   "execution_count": null,
   "metadata": {},
   "outputs": [],
   "source": []
  },
  {
   "cell_type": "code",
   "execution_count": null,
   "metadata": {},
   "outputs": [],
   "source": []
  },
  {
   "cell_type": "markdown",
   "metadata": {},
   "source": [
    "\n",
    "<section class=\"challenge panel panel-success\">\n",
    "<div class=\"panel-heading\">\n",
    "<h2><span class=\"fa fa-pencil\"></span> Challenge</h2>\n",
    "</div>\n",
    "\n",
    "\n",
    "<div class=\"panel-body\">\n",
    "\n",
    "<ol>\n",
    "<li>Make a figure of the IRAS data used above, with the GAIA source density map shown as a contour (note that you might need to smooth the GAIA source density image - check the <a href=\"https://docs.scipy.org/doc/scipy/reference/ndimage.html\">scipy.ndimage</a> module for some useful functions!)</li>\n",
    "<li>Add the positions of the GAIA sources from the table used in previous tutorials to the image</li>\n",
    "<li>If you have FITS images available, try this out with your own data!</li>\n",
    "</ol>\n",
    "\n",
    "</div>\n",
    "\n",
    "</section>\n"
   ]
  },
  {
   "cell_type": "code",
   "execution_count": null,
   "metadata": {},
   "outputs": [],
   "source": []
  },
  {
   "cell_type": "markdown",
   "metadata": {},
   "source": [
    "## Using APLpy\n",
    "\n",
    "APLpy is a relatively old Python package that has recently been re-worked to be a wrapper around astropy.visualization. It makes it very easy to make simple plots, although it does not allow full customization to the extent that wcsaxes does. For example, we can make a plot similar to the one in the solution above by doing:"
   ]
  },
  {
   "cell_type": "code",
   "execution_count": null,
   "metadata": {},
   "outputs": [],
   "source": []
  },
  {
   "cell_type": "markdown",
   "metadata": {},
   "source": [
    "Note that you can get to the underlying WCSAxes axes object by doing:"
   ]
  },
  {
   "cell_type": "code",
   "execution_count": null,
   "metadata": {},
   "outputs": [],
   "source": []
  },
  {
   "cell_type": "markdown",
   "metadata": {},
   "source": [
    "The documentation for APLpy can be found at https://aplpy.readthedocs.io/en/stable/"
   ]
  },
  {
   "cell_type": "markdown",
   "metadata": {},
   "source": [
    "<center><i>This notebook was written by <a href=\"https://aperiosoftware.com/\">Aperio Software Ltd.</a> &copy; 2019, and is licensed under a <a href=\"https://creativecommons.org/licenses/by/4.0/\">Creative Commons Attribution 4.0 International License (CC BY 4.0)</a></i></center>\n",
    "\n",
    "![cc](https://mirrors.creativecommons.org/presskit/buttons/88x31/svg/by.svg)"
   ]
  }
 ],
 "metadata": {
  "kernelspec": {
   "display_name": "Python 3",
   "language": "python",
   "name": "python3"
  },
  "language_info": {
   "codemirror_mode": {
    "name": "ipython",
    "version": 3
   },
   "file_extension": ".py",
   "mimetype": "text/x-python",
   "name": "python",
   "nbconvert_exporter": "python",
   "pygments_lexer": "ipython3",
   "version": "3.7.4"
  }
 },
 "nbformat": 4,
 "nbformat_minor": 1
}
