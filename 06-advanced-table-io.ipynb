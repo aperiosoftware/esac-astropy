{
 "cells": [
  {
   "cell_type": "markdown",
   "metadata": {},
   "source": [
    "# Advanced table access for ASCII and VO Tables\n",
    "\n",
    "In the previous tutorial, we saw how the Table class can be used to read in, write out, and manipulate a variety of table types. For many use cases, this will be sufficient, but in some cases, you may need to access certain file formats at a lower level that is more format-specific. We already saw how to access FITS tables with astropy.io.fits in the FITS tutorial, and here we take a look at the [astropy.io.ascii](https://docs.astropy.org/en/stable/io/ascii/) and [astropy.io.votable](https://docs.astropy.org/en/stable/io/votable/) sub-packages for accessing ASCII tables and VO Tables respectively."
   ]
  },
  {
   "cell_type": "markdown",
   "metadata": {},
   "source": [
    "\n",
    "<section class=\"objectives panel panel-warning\">\n",
    "<div class=\"panel-heading\">\n",
    "<h2><span class=\"fa fa-certificate\"></span> Objectives</h2>\n",
    "</div>\n",
    "\n",
    "\n",
    "<div class=\"panel-body\">\n",
    "\n",
    "<ul>\n",
    "<li>Read ASCII tables with astropy.io.ascii</li>\n",
    "<li>Read VO tables with astropy.io.votable</li>\n",
    "</ul>\n",
    "\n",
    "</div>\n",
    "\n",
    "</section>\n"
   ]
  },
  {
   "cell_type": "markdown",
   "metadata": {},
   "source": [
    "## Documentation\n",
    "\n",
    "This notebook only shows a subset of the functionality in astropy.io.ascii and astropy.io.votable. For more information about the features presented below as well as other available features, you can read the\n",
    "[astropy.io.ascii](https://docs.astropy.org/en/stable/io/ascii/) and the [astropy.io.votable](https://docs.astropy.org/en/stable/io/votable/) documentation."
   ]
  },
  {
   "cell_type": "code",
   "execution_count": null,
   "metadata": {},
   "outputs": [],
   "source": [
    "%matplotlib inline\n",
    "import matplotlib.pyplot as plt\n",
    "plt.rc('image', origin='lower')\n",
    "plt.rc('figure', figsize=(10, 6))"
   ]
  },
  {
   "cell_type": "markdown",
   "metadata": {},
   "source": [
    "# Accessing ASCII tables\n",
    "\n",
    "The astropy.io.ascii sub-package contains an advanced framework for reading and writing out ASCII tables, and is what is used behind the scenes when reading and writing ASCII tables with the Table class.\n",
    "\n",
    "The main functions are [read](http://docs.astropy.org/en/stable/api/astropy.io.ascii.read.html#astropy.io.ascii.read) and [write](http://docs.astropy.org/en/stable/api/astropy.io.ascii.write.html#astropy.io.ascii.write) which can be imported as:"
   ]
  },
  {
   "cell_type": "code",
   "execution_count": null,
   "metadata": {},
   "outputs": [],
   "source": []
  },
  {
   "cell_type": "markdown",
   "metadata": {},
   "source": [
    "although for readability we recommend importing:"
   ]
  },
  {
   "cell_type": "code",
   "execution_count": null,
   "metadata": {},
   "outputs": [],
   "source": []
  },
  {
   "cell_type": "markdown",
   "metadata": {},
   "source": [
    "and using ``ascii.read`` and ``ascii.write``.\n",
    "\n",
    "Let's take a look at the following example of ASCII table:"
   ]
  },
  {
   "cell_type": "code",
   "execution_count": null,
   "metadata": {},
   "outputs": [],
   "source": [
    "lines = \"\"\"\n",
    "objID                   & osrcid            & xsrcid       \n",
    "----------------------- & ----------------- & -------------\n",
    "              277955213 & S000.7044P00.7513 & XS04861B6_005\n",
    "              889974380 & S002.9051P14.7003 & XS03957B7_004\n",
    "\"\"\".lstrip()"
   ]
  },
  {
   "cell_type": "markdown",
   "metadata": {},
   "source": [
    "Unlike the Table class, the ``read`` function can be given a string containing the table instead of just a filename (which it also supports). This can come in handy if you want to read/write tables to memory. However, ``read`` is not able to guess the format of the above table correctly:"
   ]
  },
  {
   "cell_type": "code",
   "execution_count": null,
   "metadata": {},
   "outputs": [],
   "source": []
  },
  {
   "cell_type": "markdown",
   "metadata": {},
   "source": [
    "We therefore need to specify details about what kind of table it is, and what the main delimiter is. Is this case, these options are:"
   ]
  },
  {
   "cell_type": "code",
   "execution_count": null,
   "metadata": {},
   "outputs": [],
   "source": []
  },
  {
   "cell_type": "markdown",
   "metadata": {},
   "source": [
    "A list of supported files can be found [in the documentation](http://docs.astropy.org/en/stable/io/ascii/index.html#supported-formats) and it is also possible to [define your own formats](http://docs.astropy.org/en/stable/io/ascii/read.html#advanced-customization).\n",
    "\n",
    "Because this framework allows a lot of control over how the data is parsed, it is even possible to read data from a table such as:"
   ]
  },
  {
   "cell_type": "code",
   "execution_count": null,
   "metadata": {},
   "outputs": [],
   "source": [
    "lines2 = \"\"\"\n",
    "# This is the start of my data file\n",
    "\n",
    "Automatically generated by my_script.py at 2012-01-01T12:13:14\n",
    "Run parameters: None\n",
    "Column header line:\n",
    "\n",
    "x:y:z\n",
    "\n",
    "Data values section:\n",
    "\n",
    "1:2:3\n",
    "4:5:6\n",
    "\n",
    "Run completed at 2012:01-01T12:14:01\n",
    "\"\"\".lstrip()"
   ]
  },
  {
   "cell_type": "markdown",
   "metadata": {},
   "source": [
    "In this case, we would need to specify the following options:"
   ]
  },
  {
   "cell_type": "code",
   "execution_count": null,
   "metadata": {},
   "outputs": [],
   "source": []
  },
  {
   "cell_type": "markdown",
   "metadata": {},
   "source": [
    "There are many more options and formats available, so if you find yourself needing to read in complicated ASCII formats, be sure to check the [astropy.io.ascii documentation](docs.astropy.org/en/stable/io/ascii/index.html)!"
   ]
  },
  {
   "cell_type": "markdown",
   "metadata": {},
   "source": [
    "## Accessing VO tables\n",
    "\n",
    "As for ASCII tables, you should be able to read/write VO tables from the Table class, but sometimes you will need more control to access VO-specific features.\n",
    "\n",
    "To demonstrate how to access VO tables directly, we will use the [data/xmm-log.vot](data/xmm-log.vot) file which contains a subset of rows from the XMM-Newton observation log which was [obtained from VizieR](http://vizier.u-strasbg.fr/viz-bin/VizieR?-source=B/xmm)."
   ]
  },
  {
   "cell_type": "code",
   "execution_count": null,
   "metadata": {},
   "outputs": [],
   "source": []
  },
  {
   "cell_type": "code",
   "execution_count": null,
   "metadata": {},
   "outputs": [],
   "source": []
  },
  {
   "cell_type": "markdown",
   "metadata": {},
   "source": [
    "A VO table file consists of resource elements, each of which can contain one or more table. We can loop over these to check what exists:"
   ]
  },
  {
   "cell_type": "code",
   "execution_count": null,
   "metadata": {},
   "outputs": [],
   "source": []
  },
  {
   "cell_type": "markdown",
   "metadata": {},
   "source": [
    "Note that the table returned is **not** a regular astropy Table, it is a different kind of object (even though the class is called the same). If you want to get a regular table out you could do:"
   ]
  },
  {
   "cell_type": "code",
   "execution_count": null,
   "metadata": {},
   "outputs": [],
   "source": []
  },
  {
   "cell_type": "markdown",
   "metadata": {},
   "source": [
    "However here we are interested in using the 'native' VO table object, which is a little different:"
   ]
  },
  {
   "cell_type": "code",
   "execution_count": null,
   "metadata": {},
   "outputs": [],
   "source": []
  },
  {
   "cell_type": "code",
   "execution_count": null,
   "metadata": {},
   "outputs": [],
   "source": []
  },
  {
   "cell_type": "code",
   "execution_count": null,
   "metadata": {},
   "outputs": [],
   "source": []
  },
  {
   "cell_type": "code",
   "execution_count": null,
   "metadata": {},
   "outputs": [],
   "source": []
  },
  {
   "cell_type": "markdown",
   "metadata": {},
   "source": [
    "This interface gives full access to the information stored in the XML, and also allows standard-compliant VO tables to be written back out.\n",
    "\n",
    "For more information about reading, manipulating, and writing VO tables, we recommend you take a look at the [astropy.io.votable](http://docs.astropy.org/en/stable/io/votable/index.html) documentation."
   ]
  },
  {
   "cell_type": "markdown",
   "metadata": {},
   "source": [
    "<center><i>This notebook was written by <a href=\"https://aperiosoftware.com/\">Aperio Software Ltd.</a> &copy; 2019, and is licensed under a <a href=\"https://creativecommons.org/licenses/by/4.0/\">Creative Commons Attribution 4.0 International License (CC BY 4.0)</a></i></center>\n",
    "\n",
    "![cc](https://mirrors.creativecommons.org/presskit/buttons/88x31/svg/by.svg)"
   ]
  }
 ],
 "metadata": {
  "kernelspec": {
   "display_name": "Python 3",
   "language": "python",
   "name": "python3"
  },
  "language_info": {
   "codemirror_mode": {
    "name": "ipython",
    "version": 3
   },
   "file_extension": ".py",
   "mimetype": "text/x-python",
   "name": "python",
   "nbconvert_exporter": "python",
   "pygments_lexer": "ipython3",
   "version": "3.7.4"
  }
 },
 "nbformat": 4,
 "nbformat_minor": 1
}
