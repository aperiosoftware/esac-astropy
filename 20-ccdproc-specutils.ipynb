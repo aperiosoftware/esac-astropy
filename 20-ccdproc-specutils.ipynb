{
 "cells": [
  {
   "cell_type": "markdown",
   "metadata": {},
   "source": [
    "# Tools for CCD and spectroscopic data reduction/analysis\n",
    "\n",
    "While we won't go into detail about this, we wanted to mention the packages in the Astropy ecosystem that can be used for CCD and spectroscopic data reduction and analysis.\n",
    "\n",
    "## CCD data\n",
    "\n",
    "<img src=\"https://ccdproc.readthedocs.io/en/latest/_static/ccdproc_banner.svg\" width=400>\n",
    "\n",
    "[Ccdproc](https://ccdproc.readthedocs.io/en/latest/) is an Astropy coordinated package for basic data reduction of CCD data which relies on the CCDData class in the astropy.nddata module. A [CCD reduction guide](https://mwcraig.github.io/ccd-as-book/00-00-Preface.html) has been written Matt Craig (one of the ccdproc lead developers) using ccdproc as one of the main packages (this is intended to provide a modern counterpart of the original IRAF CCD Reduction guide).\n",
    "\n",
    "## Spectra\n",
    "\n",
    "<img src=\"https://specutils.readthedocs.io/en/stable/_images/logo.png\" width=400>\n",
    "\n",
    "The [specutils](https://specutils.readthedocs.io/en/stable/) package is an Astropy coordinated package for the representation and analysis of spectra. It is currently undergoing some significant changes/improvements, so we do not look at it in detail here."
   ]
  },
  {
   "cell_type": "markdown",
   "metadata": {},
   "source": [
    "<center><i>This notebook was written by <a href=\"https://aperiosoftware.com/\">Aperio Software Ltd.</a> &copy; 2019, and is licensed under a <a href=\"https://creativecommons.org/licenses/by/4.0/\">Creative Commons Attribution 4.0 International License (CC BY 4.0)</a></i></center>\n",
    "\n",
    "![cc](https://mirrors.creativecommons.org/presskit/buttons/88x31/svg/by.svg)"
   ]
  }
 ],
 "metadata": {
  "kernelspec": {
   "display_name": "Python 3",
   "language": "python",
   "name": "python3"
  },
  "language_info": {
   "codemirror_mode": {
    "name": "ipython",
    "version": 3
   },
   "file_extension": ".py",
   "mimetype": "text/x-python",
   "name": "python",
   "nbconvert_exporter": "python",
   "pygments_lexer": "ipython3",
   "version": "3.7.4"
  }
 },
 "nbformat": 4,
 "nbformat_minor": 1
}
